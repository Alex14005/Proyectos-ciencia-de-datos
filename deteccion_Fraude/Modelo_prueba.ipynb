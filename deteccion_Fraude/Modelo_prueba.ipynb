{
  "cells": [
    {
      "cell_type": "code",
      "execution_count": 13,
      "metadata": {
        "id": "eHKUc1M_P63e"
      },
      "outputs": [],
      "source": [
        "import joblib\n",
        "import pandas as pd\n",
        "from sklearn.preprocessing import StandardScaler\n",
        "from sklearn.decomposition import PCA"
      ]
    },
    {
      "cell_type": "code",
      "execution_count": 20,
      "metadata": {
        "id": "ScB8k_gZQKz5"
      },
      "outputs": [],
      "source": [
        "rf_clf = joblib.load('/content/rfc-datknow.pkl')\n",
        "test = pd.read_csv('/content/test_limpio.csv')"
      ]
    },
    {
      "cell_type": "code",
      "execution_count": 21,
      "metadata": {
        "id": "9BeAyAflS0FK"
      },
      "outputs": [],
      "source": [
        "test[\"FRAUDE\"] = test[\"FRAUDE\"].fillna(0)"
      ]
    },
    {
      "cell_type": "code",
      "execution_count": 22,
      "metadata": {
        "id": "Mn9mTDtoSRPE"
      },
      "outputs": [],
      "source": [
        "# eliminar la columna \"FRAUDE\" del dataset de prueba\n",
        "X_test = test.drop(columns=[\"FRAUDE\"])\n",
        "\n",
        "# Normalizar los datos\n",
        "scaler = StandardScaler()\n",
        "test_scaled = scaler.fit_transform(test)\n",
        "\n",
        "# Aplicar PCA para reducir la dimensionalidad de los datos\n",
        "pca = PCA(n_components=2)\n",
        "test_pca = pca.fit_transform(test_scaled)"
      ]
    },
    {
      "cell_type": "code",
      "execution_count": 23,
      "metadata": {
        "id": "-A4-PFRNROAM"
      },
      "outputs": [],
      "source": [
        "# Realizar las predicciones en los datos de prueba utilizando el modelo cargado\n",
        "y_pred = rf_clf.predict(test_pca)\n",
        "\n",
        "# Reemplazar los valores nulos en la columna \"FRAUDE\" con las predicciones obtenidas\n",
        "test[\"FRAUDE\"] = y_pred\n",
        "\n",
        "# Guardar el DataFrame con las predicciones en un nuevo archivo\n",
        "test.to_csv('test_predicciones.csv', index=False)"
      ]
    },
    {
      "cell_type": "code",
      "execution_count": 9,
      "metadata": {
        "colab": {
          "base_uri": "https://localhost:8080/"
        },
        "id": "Wfc-ps0jRscx",
        "outputId": "97d04a23-b720-4220-e158-3f82043d88f5"
      },
      "outputs": [
        {
          "data": {
            "text/plain": [
              "FRAUDE             100\n",
              "VALOR                0\n",
              "HORA_AUX             0\n",
              "Dist_max_NAL         0\n",
              "Canal1               0\n",
              "FECHA                0\n",
              "COD_PAIS             0\n",
              "CANAL                0\n",
              "DIASEM               0\n",
              "DIAMES               0\n",
              "FECHA_VIN            0\n",
              "OFICINA_VIN          0\n",
              "SEXO                 0\n",
              "SEGMENTO             0\n",
              "EDAD                 0\n",
              "INGRESOS             0\n",
              "EGRESOS              0\n",
              "NROPAISES            0\n",
              "Dist_Sum_INTER       0\n",
              "Dist_Mean_INTER      0\n",
              "Dist_Max_INTER       0\n",
              "NROCIUDADES          0\n",
              "Dist_Mean_NAL        0\n",
              "Dist_HOY             0\n",
              "Dist_sum_NAL         0\n",
              "dtype: int64"
            ]
          },
          "execution_count": 9,
          "metadata": {},
          "output_type": "execute_result"
        }
      ],
      "source": [
        "test.isnull().sum()"
      ]
    },
    {
      "cell_type": "code",
      "execution_count": 12,
      "metadata": {
        "colab": {
          "base_uri": "https://localhost:8080/"
        },
        "id": "449vgVMzSErU",
        "outputId": "8a3bf3a4-232e-4252-f826-e6dc81c11b56"
      },
      "outputs": [
        {
          "name": "stdout",
          "output_type": "stream",
          "text": [
            "(100, 25)\n"
          ]
        }
      ],
      "source": [
        "print(test.shape)"
      ]
    }
  ],
  "metadata": {
    "colab": {
      "provenance": []
    },
    "kernelspec": {
      "display_name": "Python 3",
      "name": "python3"
    },
    "language_info": {
      "name": "python"
    }
  },
  "nbformat": 4,
  "nbformat_minor": 0
}
